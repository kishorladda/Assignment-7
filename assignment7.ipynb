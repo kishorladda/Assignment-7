{
 "cells": [
  {
   "cell_type": "markdown",
   "id": "d5fda875-e96c-4090-960e-8cdf9f9840c6",
   "metadata": {},
   "source": [
    "Q1. Create a function which will take a list as an argument and return the product of all the numbers\n",
    "    after creating a flat list.\n",
    "    Use the below-given list as an argument for your function.\n",
    "    list1 = [1,2,3,4, [44,55,66, True], False, (34,56,78,89,34), \n",
    "             {1,2,3,3,2,1}, {1:34, \"key2\": [55, 67, 78, 89], 4: (45,\n",
    "    22, 61, 34)}, [56, 'data science'], 'Machine Learning']\n",
    "    \n",
    "    Note: you must extract numeric keys and values of the dictionary also.\n",
    "output = "
   ]
  },
  {
   "cell_type": "code",
   "execution_count": 8,
   "id": "7c5b8b62-664a-4257-9c80-9d0217b8dd95",
   "metadata": {},
   "outputs": [],
   "source": [
    "l = [1,2,3,4, [44,55,66, True], False, (34,56,78,89,34), \n",
    "             {1,2,3,3,2,1}, {1:34, \"key2\": [55, 67, 78, 89], 4: (45,\n",
    "    22, 61, 34)}, [56, 'data science'], 'Machine Learning']"
   ]
  },
  {
   "cell_type": "code",
   "execution_count": 12,
   "id": "491cb3f2-1e35-4438-b79a-3185468642c1",
   "metadata": {},
   "outputs": [],
   "source": [
    "p = 1\n",
    "for i in l :\n",
    "    if type(i)==int :\n",
    "        p=p*i\n",
    "    if type(i) == list or type(i) == tuple or type(i)==set:\n",
    "        for j in i :\n",
    "            if type(j)==int:\n",
    "                    p=p*j\n",
    "    if type(i)==dict:\n",
    "        for y in i.keys() :\n",
    "            if type(y)==int :\n",
    "                 p=p*y   \n",
    "        for s in i.values():\n",
    "            if type(s)==int:\n",
    "                        p=p*s"
   ]
  },
  {
   "cell_type": "code",
   "execution_count": 14,
   "id": "8fe6cb3a-2d85-4a6c-ac61-9ef45467cc9a",
   "metadata": {},
   "outputs": [
    {
     "data": {
      "text/plain": [
       "78718933113238978560"
      ]
     },
     "execution_count": 14,
     "metadata": {},
     "output_type": "execute_result"
    }
   ],
   "source": [
    "p"
   ]
  },
  {
   "cell_type": "markdown",
   "id": "445a7f30-70dd-4afd-bb72-da5b8ec7adff",
   "metadata": {},
   "source": [
    "Q2. Write a python program for encrypting a message sent to you by your friend. The logic of encryption\n",
    "    should be such that, for a the output should be z. For b, the output should be y. For c, the output should\n",
    "    be x respectively. Also, the whitespace should be replaced with a dollar sign. Keep the punctuation\n",
    "    marks unchanged.\n",
    "    \n",
    "    Input Sentence: I want to become a Data Scientist.\n",
    "    \n",
    "    Encrypt the above input sentence using the program you just created.\n",
    "    \n",
    "    Note: Convert the given input sentence into lowercase before encrypting. The final output should be\n",
    "    lowercase."
   ]
  },
  {
   "cell_type": "code",
   "execution_count": 10,
   "id": "e10aed5f-6b39-41b1-a433-4e67f0cd1155",
   "metadata": {},
   "outputs": [
    {
     "name": "stdin",
     "output_type": "stream",
     "text": [
      "enter your message I want to become a Data Scientist.\n"
     ]
    },
    {
     "name": "stdout",
     "output_type": "stream",
     "text": [
      "i$wznt$to$yexome$z$dztz$sxientist."
     ]
    }
   ],
   "source": [
    "message = input('enter your message')\n",
    "counter = 0\n",
    "for i in message :\n",
    "    if i == 'a':\n",
    "        print('z',end ='')\n",
    "    elif i == 'b':\n",
    "        print('y',end ='')\n",
    "    elif i == 'c':\n",
    "        print('x',end ='')\n",
    "    elif i == ' ':\n",
    "        print('$',end ='')\n",
    "    else :\n",
    "        print(i.lower(),end ='')\n",
    "    \n"
   ]
  },
  {
   "cell_type": "code",
   "execution_count": null,
   "id": "7a545ecb-f277-4915-9a66-ef2565a7eb18",
   "metadata": {},
   "outputs": [],
   "source": []
  },
  {
   "cell_type": "code",
   "execution_count": null,
   "id": "dfa87030-e3a2-4636-9e34-f4089f82d337",
   "metadata": {},
   "outputs": [],
   "source": []
  }
 ],
 "metadata": {
  "kernelspec": {
   "display_name": "Python 3 (ipykernel)",
   "language": "python",
   "name": "python3"
  },
  "language_info": {
   "codemirror_mode": {
    "name": "ipython",
    "version": 3
   },
   "file_extension": ".py",
   "mimetype": "text/x-python",
   "name": "python",
   "nbconvert_exporter": "python",
   "pygments_lexer": "ipython3",
   "version": "3.10.8"
  }
 },
 "nbformat": 4,
 "nbformat_minor": 5
}
